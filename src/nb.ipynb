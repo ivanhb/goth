{
 "cells": [
  {
   "cell_type": "code",
   "execution_count": 15,
   "metadata": {},
   "outputs": [],
   "source": [
    "import os\n",
    "\n",
    "\n",
    "def find(file, path):\n",
    "    for root, dirs, files in os.walk(path):\n",
    "        for name in files:\n",
    "            if file[\"name\"] == name:\n",
    "                full_path = os.path.join(root, name)\n",
    "                #the size of the file\n",
    "                file_size = os.path.getsize(full_path)\n",
    "                #time of the last modification\n",
    "                file_mtime = str(os.path.getmtime(full_path)).replace(\".\",\"\")\n",
    "                \n",
    "                if (file_size == file[\"size\"]) and (file[\"lastModified\"] in file_mtime):\n",
    "                    return full_path;\n",
    "    \n",
    "    return -1"
   ]
  },
  {
   "cell_type": "code",
   "execution_count": 16,
   "metadata": {},
   "outputs": [
    {
     "data": {
      "text/plain": [
       "'/Users/ivan.heibi/ivanhb.gen/goth/model/index.json'"
      ]
     },
     "execution_count": 16,
     "metadata": {},
     "output_type": "execute_result"
    }
   ],
   "source": [
    "find({\"name\":\"index.json\", \"size\": 3005,\"lastModified\": \"1574949772770\"}, '/')"
   ]
  },
  {
   "cell_type": "code",
   "execution_count": null,
   "metadata": {},
   "outputs": [],
   "source": []
  }
 ],
 "metadata": {
  "kernelspec": {
   "display_name": "Python 3",
   "language": "python",
   "name": "python3"
  },
  "language_info": {
   "codemirror_mode": {
    "name": "ipython",
    "version": 3
   },
   "file_extension": ".py",
   "mimetype": "text/x-python",
   "name": "python",
   "nbconvert_exporter": "python",
   "pygments_lexer": "ipython3",
   "version": "3.7.3"
  }
 },
 "nbformat": 4,
 "nbformat_minor": 2
}
